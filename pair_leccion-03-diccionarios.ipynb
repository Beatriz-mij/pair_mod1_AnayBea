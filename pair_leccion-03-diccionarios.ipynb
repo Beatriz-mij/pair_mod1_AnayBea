{
 "cells": [
  {
   "cell_type": "markdown",
   "metadata": {},
   "source": [
    "# Ejercicios pair Ana y Bea\n",
    "## Lección 03 diccionarios"
   ]
  },
  {
   "cell_type": "code",
   "execution_count": 3,
   "metadata": {},
   "outputs": [],
   "source": [
    "# 1. Crear un diccionario vacío\n",
    "\n",
    "mudanza = {}"
   ]
  },
  {
   "cell_type": "code",
   "execution_count": 63,
   "metadata": {},
   "outputs": [
    {
     "name": "stdout",
     "output_type": "stream",
     "text": [
      "{'ventanas': 'salón', 'escritorio': 'salón', 'cama': 'habitación', 'alacena': 'cocina', 'ducha': 'baño'}\n"
     ]
    }
   ],
   "source": [
    "# 2. Crear un diccionario con elementos\n",
    "\n",
    "mudanza= {\"ventanas\": \"salón\", \"escritorio\" : \"salón\", \"cama\" : \"habitación\", \"alacena\" : \"cocina\", \"ducha\" : \"baño\"}\n",
    "print(mudanza)"
   ]
  },
  {
   "cell_type": "code",
   "execution_count": 16,
   "metadata": {},
   "outputs": [],
   "source": [
    "clave_usuario = input(\"Dime una clave :\") "
   ]
  },
  {
   "cell_type": "code",
   "execution_count": 17,
   "metadata": {},
   "outputs": [
    {
     "name": "stdout",
     "output_type": "stream",
     "text": [
      "ventanas\n"
     ]
    }
   ],
   "source": [
    "print(clave_usuario)"
   ]
  },
  {
   "cell_type": "code",
   "execution_count": 26,
   "metadata": {},
   "outputs": [
    {
     "data": {
      "text/plain": [
       "dict"
      ]
     },
     "execution_count": 26,
     "metadata": {},
     "output_type": "execute_result"
    }
   ],
   "source": [
    "type(mudanza)"
   ]
  },
  {
   "cell_type": "code",
   "execution_count": 27,
   "metadata": {},
   "outputs": [
    {
     "data": {
      "text/plain": [
       "dict_keys(['ventanas', 'escritorio', 'cama', 'alacena', 'ducha'])"
      ]
     },
     "execution_count": 27,
     "metadata": {},
     "output_type": "execute_result"
    }
   ],
   "source": [
    "mudanza.keys()"
   ]
  },
  {
   "cell_type": "code",
   "execution_count": 28,
   "metadata": {},
   "outputs": [
    {
     "data": {
      "text/plain": [
       "'salón'"
      ]
     },
     "execution_count": 28,
     "metadata": {},
     "output_type": "execute_result"
    }
   ],
   "source": [
    "mudanza[\"ventanas\"]"
   ]
  },
  {
   "cell_type": "code",
   "execution_count": 30,
   "metadata": {},
   "outputs": [
    {
     "data": {
      "text/plain": [
       "'salón'"
      ]
     },
     "execution_count": 30,
     "metadata": {},
     "output_type": "execute_result"
    }
   ],
   "source": [
    "clave_usuario = input(\"Dime una clave:\" )\n",
    "mudanza[clave_usuario]"
   ]
  },
  {
   "cell_type": "code",
   "execution_count": 32,
   "metadata": {},
   "outputs": [
    {
     "ename": "KeyError",
     "evalue": "'patata'",
     "output_type": "error",
     "traceback": [
      "\u001b[1;31m---------------------------------------------------------------------------\u001b[0m",
      "\u001b[1;31mKeyError\u001b[0m                                  Traceback (most recent call last)",
      "Cell \u001b[1;32mIn[32], line 2\u001b[0m\n\u001b[0;32m      1\u001b[0m clave_usuario \u001b[38;5;241m=\u001b[39m \u001b[38;5;28minput\u001b[39m(\u001b[38;5;124m\"\u001b[39m\u001b[38;5;124mDime una clave:\u001b[39m\u001b[38;5;124m\"\u001b[39m )\n\u001b[1;32m----> 2\u001b[0m mudanza[clave_usuario]\n",
      "\u001b[1;31mKeyError\u001b[0m: 'patata'"
     ]
    }
   ],
   "source": [
    "clave_usuario = input(\"Dime una clave:\" )\n",
    "mudanza[clave_usuario]"
   ]
  },
  {
   "cell_type": "code",
   "execution_count": 14,
   "metadata": {},
   "outputs": [
    {
     "ename": "AttributeError",
     "evalue": "'str' object has no attribute 'input'",
     "output_type": "error",
     "traceback": [
      "\u001b[1;31m---------------------------------------------------------------------------\u001b[0m",
      "\u001b[1;31mAttributeError\u001b[0m                            Traceback (most recent call last)",
      "Cell \u001b[1;32mIn[14], line 2\u001b[0m\n\u001b[0;32m      1\u001b[0m \u001b[38;5;66;03m# 3. Acceder al valor de una clave en un diccionario\u001b[39;00m\n\u001b[1;32m----> 2\u001b[0m mudanza\u001b[38;5;241m.\u001b[39minput(\u001b[38;5;124m\"\u001b[39m\u001b[38;5;124mventanas\u001b[39m\u001b[38;5;124m\"\u001b[39m)\n\u001b[0;32m      3\u001b[0m \u001b[38;5;28mprint\u001b[39m(mudanza)\n",
      "\u001b[1;31mAttributeError\u001b[0m: 'str' object has no attribute 'input'"
     ]
    }
   ],
   "source": [
    "# 3. Acceder al valor de una clave en un diccionario\n",
    "mudanza.input()\n",
    "print(mudanza)"
   ]
  },
  {
   "cell_type": "code",
   "execution_count": 33,
   "metadata": {},
   "outputs": [],
   "source": [
    "# 4. Agregar un nuevo par clave-valor a un diccionario\n",
    "nuevo_elemento_mudanza = {\"zapatero\" : \"hall\"}\n",
    "mudanza.update(nuevo_elemento_mudanza)"
   ]
  },
  {
   "cell_type": "code",
   "execution_count": 34,
   "metadata": {},
   "outputs": [
    {
     "name": "stdout",
     "output_type": "stream",
     "text": [
      "{'ventanas': 'salón', 'escritorio': 'salón', 'cama': 'habitación', 'alacena': 'cocina', 'ducha': 'baño', 'zapatero': 'hall'}\n"
     ]
    }
   ],
   "source": [
    "print(mudanza)"
   ]
  },
  {
   "cell_type": "code",
   "execution_count": 35,
   "metadata": {},
   "outputs": [],
   "source": [
    "# 5. Actualiza el valor de una clave\n",
    "mudanza.update({\"escritorio\" : \"despacho\"})"
   ]
  },
  {
   "cell_type": "code",
   "execution_count": 36,
   "metadata": {},
   "outputs": [
    {
     "name": "stdout",
     "output_type": "stream",
     "text": [
      "{'ventanas': 'salón', 'escritorio': 'despacho', 'cama': 'habitación', 'alacena': 'cocina', 'ducha': 'baño', 'zapatero': 'hall'}\n"
     ]
    }
   ],
   "source": [
    "print(mudanza)"
   ]
  },
  {
   "cell_type": "code",
   "execution_count": 40,
   "metadata": {},
   "outputs": [
    {
     "name": "stdout",
     "output_type": "stream",
     "text": [
      "{'ventanas': 'salón', 'escritorio': 'salón', 'cama': 'habitación', 'alacena': 'cocina', 'ducha': 'baño'}\n"
     ]
    }
   ],
   "source": [
    "# 6. Eliminar un par clave-valor de un diccionario\n",
    "print(mudanza)"
   ]
  },
  {
   "cell_type": "code",
   "execution_count": 41,
   "metadata": {},
   "outputs": [
    {
     "name": "stdout",
     "output_type": "stream",
     "text": [
      "Eliminamos el último par de clave valor del diccionario: ('ducha', 'baño')\n"
     ]
    }
   ],
   "source": [
    "print(\"Eliminamos el último par de clave valor del diccionario:\" , mudanza.popitem())"
   ]
  },
  {
   "cell_type": "code",
   "execution_count": 42,
   "metadata": {},
   "outputs": [
    {
     "name": "stdout",
     "output_type": "stream",
     "text": [
      "Toda la lista sin el último {'ventanas': 'salón', 'escritorio': 'salón', 'cama': 'habitación', 'alacena': 'cocina'}\n"
     ]
    }
   ],
   "source": [
    "print(\"Toda la lista sin el último\", mudanza)"
   ]
  },
  {
   "cell_type": "code",
   "execution_count": null,
   "metadata": {},
   "outputs": [],
   "source": [
    "# 7. Falta ejercicio, no entendemos lo de input"
   ]
  },
  {
   "cell_type": "code",
   "execution_count": 43,
   "metadata": {},
   "outputs": [
    {
     "data": {
      "text/plain": [
       "dict_keys(['ventanas', 'escritorio', 'cama', 'alacena'])"
      ]
     },
     "execution_count": 43,
     "metadata": {},
     "output_type": "execute_result"
    }
   ],
   "source": [
    "# 8. Obtener una lista de todas las claves de un diccionario\n",
    "\n",
    "mudanza.keys()"
   ]
  },
  {
   "cell_type": "code",
   "execution_count": 44,
   "metadata": {},
   "outputs": [
    {
     "data": {
      "text/plain": [
       "dict_values(['salón', 'salón', 'habitación', 'cocina'])"
      ]
     },
     "execution_count": 44,
     "metadata": {},
     "output_type": "execute_result"
    }
   ],
   "source": [
    "# 9. Obtener una lista de todos los valores de un diccionario\n",
    "mudanza.values()"
   ]
  },
  {
   "cell_type": "code",
   "execution_count": 58,
   "metadata": {},
   "outputs": [],
   "source": [
    "# 10. Utilizar el método setdefault() para establecer un valor predeterminado si la clave no existe\n"
   ]
  },
  {
   "cell_type": "code",
   "execution_count": 64,
   "metadata": {},
   "outputs": [
    {
     "name": "stdout",
     "output_type": "stream",
     "text": [
      "{'ventanas': 'salón', 'escritorio': 'salón', 'cama': 'habitación', 'alacena': 'cocina', 'ducha': 'baño'}\n"
     ]
    }
   ],
   "source": [
    "print(mudanza)"
   ]
  },
  {
   "cell_type": "code",
   "execution_count": 65,
   "metadata": {},
   "outputs": [
    {
     "name": "stdout",
     "output_type": "stream",
     "text": [
      "Los valores de la clave patata es: no existe\n"
     ]
    }
   ],
   "source": [
    "print(\"Los valores de la clave patata es:\", mudanza.setdefault(\"patata\", \"no existe\"))"
   ]
  },
  {
   "cell_type": "code",
   "execution_count": 66,
   "metadata": {},
   "outputs": [
    {
     "name": "stdout",
     "output_type": "stream",
     "text": [
      "{'ventanas': 'salón', 'escritorio': 'salón', 'cama': 'habitación', 'alacena': 'cocina', 'ducha': 'baño', 'patata': 'no existe'}\n"
     ]
    }
   ],
   "source": [
    "print(mudanza)"
   ]
  },
  {
   "cell_type": "code",
   "execution_count": 67,
   "metadata": {},
   "outputs": [
    {
     "name": "stdout",
     "output_type": "stream",
     "text": [
      "{'ventanas': 'salón', 'escritorio': 'salón', 'cama': 'habitación', 'alacena': 'cocina', 'ducha': 'baño', 'patata': 'no existe'}\n"
     ]
    }
   ],
   "source": [
    "# 11. Manipulación de un diccionario utilizando pop() y popitem()\n",
    "print(mudanza)\n"
   ]
  },
  {
   "cell_type": "code",
   "execution_count": 68,
   "metadata": {},
   "outputs": [
    {
     "name": "stdout",
     "output_type": "stream",
     "text": [
      "Eliminamos la clave de alacena del diccionario cocina\n"
     ]
    }
   ],
   "source": [
    "print(\"Eliminamos la clave de alacena del diccionario\" , mudanza.pop(\"alacena\"))"
   ]
  },
  {
   "cell_type": "code",
   "execution_count": 69,
   "metadata": {},
   "outputs": [
    {
     "name": "stdout",
     "output_type": "stream",
     "text": [
      "{'ventanas': 'salón', 'escritorio': 'salón', 'cama': 'habitación', 'ducha': 'baño', 'patata': 'no existe'}\n"
     ]
    }
   ],
   "source": [
    "print(mudanza)\n"
   ]
  },
  {
   "cell_type": "code",
   "execution_count": 70,
   "metadata": {},
   "outputs": [
    {
     "name": "stdout",
     "output_type": "stream",
     "text": [
      "Eliminamos el último par de clave valor del diccionario ('patata', 'no existe')\n"
     ]
    }
   ],
   "source": [
    "print(\"Eliminamos el último par de clave valor del diccionario\" , mudanza.popitem())"
   ]
  },
  {
   "cell_type": "code",
   "execution_count": 71,
   "metadata": {},
   "outputs": [
    {
     "name": "stdout",
     "output_type": "stream",
     "text": [
      "{'ventanas': 'salón', 'escritorio': 'salón', 'cama': 'habitación', 'ducha': 'baño'}\n"
     ]
    }
   ],
   "source": [
    "print(mudanza)"
   ]
  },
  {
   "cell_type": "code",
   "execution_count": null,
   "metadata": {},
   "outputs": [],
   "source": []
  }
 ],
 "metadata": {
  "kernelspec": {
   "display_name": "Python 3",
   "language": "python",
   "name": "python3"
  },
  "language_info": {
   "codemirror_mode": {
    "name": "ipython",
    "version": 3
   },
   "file_extension": ".py",
   "mimetype": "text/x-python",
   "name": "python",
   "nbconvert_exporter": "python",
   "pygments_lexer": "ipython3",
   "version": "3.11.9"
  }
 },
 "nbformat": 4,
 "nbformat_minor": 2
}
