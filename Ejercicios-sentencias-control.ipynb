{
 "cells": [
  {
   "cell_type": "code",
   "execution_count": 10,
   "metadata": {},
   "outputs": [
    {
     "name": "stdout",
     "output_type": "stream",
     "text": [
      "el numero es negativo\n"
     ]
    }
   ],
   "source": [
    "#Ejercicio 1\n",
    "numero = -8\n",
    "if numero > 0:\n",
    "    print (\"el numero es positivo\")\n",
    "if numero < 0:\n",
    "    print (\"el numero es negativo\")\n",
    "if numero == 0:\n",
    "    print (\"el numero es igual a 0\")\n",
    "\n",
    "\n"
   ]
  },
  {
   "cell_type": "code",
   "execution_count": 11,
   "metadata": {},
   "outputs": [
    {
     "name": "stdout",
     "output_type": "stream",
     "text": [
      "El numero es par\n"
     ]
    }
   ],
   "source": [
    "# Ejercicio 2 - Este ejercicio no está en los apuntes, sacado de Chat GPT\n",
    "\n",
    "if numero % 2 == 0:\n",
    "    print (\"El numero es par\")\n",
    "\n",
    "else:\n",
    "    print (\"El numero es impar\")\n",
    "\n",
    "\n"
   ]
  },
  {
   "cell_type": "code",
   "execution_count": 14,
   "metadata": {},
   "outputs": [
    {
     "name": "stdout",
     "output_type": "stream",
     "text": [
      "El alumno ha aprobado\n"
     ]
    }
   ],
   "source": [
    "# Ejercicio 3\n",
    "\n",
    "nota_alumno = 75\n",
    "\n",
    "if nota_alumno >= 60:\n",
    "    print (\"El alumno ha aprobado\")\n",
    "\n",
    "if nota_alumno < 60:\n",
    "    print (\"El alumno ha suspendido\")"
   ]
  },
  {
   "cell_type": "code",
   "execution_count": 18,
   "metadata": {},
   "outputs": [
    {
     "name": "stdout",
     "output_type": "stream",
     "text": [
      "El numero mayor es: 826\n"
     ]
    }
   ],
   "source": [
    "# Ejercicio 4 - ¿El numero maximo a qué corresponde?\n",
    "\n",
    "a = 826\n",
    "b = 241\n",
    "\n",
    "if a > b:\n",
    "    print (\"El numero mayor es:\", a)\n",
    "\n",
    "elif b > a:\n",
    "    print (\"El numero mayor es:\", b)\n",
    "\n",
    "else:\n",
    "    print (\"Ambos numeros son iguales\")\n",
    "\n"
   ]
  },
  {
   "cell_type": "code",
   "execution_count": 24,
   "metadata": {},
   "outputs": [
    {
     "ename": "IndentationError",
     "evalue": "unexpected indent (1767939695.py, line 5)",
     "output_type": "error",
     "traceback": [
      "\u001b[1;36m  Cell \u001b[1;32mIn[24], line 5\u001b[1;36m\u001b[0m\n\u001b[1;33m    if \"a\", \"e\", \"i\", \"o\", \"u\" == vocales\u001b[0m\n\u001b[1;37m    ^\u001b[0m\n\u001b[1;31mIndentationError\u001b[0m\u001b[1;31m:\u001b[0m unexpected indent\n"
     ]
    }
   ],
   "source": [
    "# Ejercicio 5\n",
    "\n",
    "vocales = [\"a\", \"e\", \"i\", \"o\", \"u\"]\n",
    "\n",
    " if \"a\", \"e\", \"i\", \"o\", \"u\" == vocales\n",
    "    print (\"esta letra es vocal\")"
   ]
  }
 ],
 "metadata": {
  "kernelspec": {
   "display_name": "Python 3",
   "language": "python",
   "name": "python3"
  },
  "language_info": {
   "codemirror_mode": {
    "name": "ipython",
    "version": 3
   },
   "file_extension": ".py",
   "mimetype": "text/x-python",
   "name": "python",
   "nbconvert_exporter": "python",
   "pygments_lexer": "ipython3",
   "version": "3.11.9"
  }
 },
 "nbformat": 4,
 "nbformat_minor": 2
}
